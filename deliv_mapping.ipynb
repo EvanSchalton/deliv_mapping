{
 "cells": [
  {
   "cell_type": "markdown",
   "metadata": {},
   "source": [
    "https://github.com/OpenDataDE/State-zip-code-GeoJSON"
   ]
  },
  {
   "cell_type": "code",
   "execution_count": 1,
   "metadata": {},
   "outputs": [],
   "source": [
    "import pandas as pd"
   ]
  },
  {
   "cell_type": "code",
   "execution_count": 2,
   "metadata": {},
   "outputs": [],
   "source": [
    "import json\n",
    "import os"
   ]
  },
  {
   "cell_type": "code",
   "execution_count": 3,
   "metadata": {},
   "outputs": [],
   "source": [
    "SELECTED_NAME = \"RDC\""
   ]
  },
  {
   "cell_type": "code",
   "execution_count": 4,
   "metadata": {},
   "outputs": [],
   "source": [
    "geojson_dir = r\"D:\\GIT\\zipmaps\"\n",
    "geojson = {\n",
    "    \"DC\":\"dc_district_of_columbia_zip_codes_geo.min.json\",\n",
    "    \"VA\":\"va_virginia_zip_codes_geo.min.json\",\n",
    "    \"MD\":\"md_maryland_zip_codes_geo.min.json\",\n",
    "}"
   ]
  },
  {
   "cell_type": "code",
   "execution_count": 5,
   "metadata": {},
   "outputs": [],
   "source": [
    "CAPTURING_ZONES = 3"
   ]
  },
  {
   "cell_type": "code",
   "execution_count": 6,
   "metadata": {},
   "outputs": [],
   "source": [
    "SELECTED = \"22204\""
   ]
  },
  {
   "cell_type": "code",
   "execution_count": 7,
   "metadata": {},
   "outputs": [],
   "source": [
    "tempMAPDATA = {\n",
    "    \"ZONE1\":\"\",\n",
    "    \"ZONE2\":\"\",\n",
    "    \"ZONE3\":\"\",\n",
    "    \"ZONE4\":\"\",\n",
    "    \"ZONE5\":\"\",\n",
    "    \"ZONE6\":\"\",\n",
    "}"
   ]
  },
  {
   "cell_type": "code",
   "execution_count": 8,
   "metadata": {},
   "outputs": [],
   "source": [
    "tempMAPDATA[\"ZONE1\"] = \"\"\"\n",
    "22041, 22044, 22201, 22202, 22203, 22204, 22205, 22206, 22209, 22211, 22214, 22302, 22305, 22311\n",
    "\"\"\""
   ]
  },
  {
   "cell_type": "code",
   "execution_count": 9,
   "metadata": {},
   "outputs": [],
   "source": [
    "tempMAPDATA[\"ZONE2\"] = \"\"\"\n",
    "20001, 20003, 20004, 20005, 20006, 20007, 20008, 20009, 20016, 20024, 20026, 20032, 20036, 20037, 20045, 20052, 20057, 20260, 20319, 20373, 20374, 20390, 20391, 20398, 20500, 20535, 22042, 22043, 22046, 22207, 22213, 22301, 22303, 22304, 22310, 22312, 22314, 22331, 22332\n",
    "\"\"\""
   ]
  },
  {
   "cell_type": "code",
   "execution_count": 10,
   "metadata": {},
   "outputs": [],
   "source": [
    "tempMAPDATA[\"ZONE3\"] = \"\"\"\n",
    "20002, 20010, 20011, 20012, 20015, 20017, 20018, 20019, 20020, 20064, 20317, 20745, 20748, 20812, 20815, 20816, 20818, 22003, 22027, 22031, 22067, 22081, 22101, 22102, 22150, 22151, 22159, 22180, 22306, 22315\n",
    "\"\"\""
   ]
  },
  {
   "cell_type": "code",
   "execution_count": 11,
   "metadata": {},
   "outputs": [],
   "source": [
    "tempMAPDATA[\"ZONE4\"] = \"\"\"\n",
    "20710, 20712, 20722, 20737, 20742, 20743, 20746, 20747, 20781, 20782, 20783, 20814, 20817, 20895, 20901, 20910, 20912, 22015, 22032, 22060, 22152, 22153, 22181, 22182, 22309\n",
    "\"\"\""
   ]
  },
  {
   "cell_type": "code",
   "execution_count": 12,
   "metadata": {},
   "outputs": [],
   "source": [
    "tempMAPDATA[\"ZONE5\"] = \"\"\"\n",
    "20190, 20191, 20706, 20740, 20770, 20784, 20785, 20852, 20854, 20902, 20903, 22030, 22035, 22066, 22124\n",
    "\"\"\""
   ]
  },
  {
   "cell_type": "code",
   "execution_count": 13,
   "metadata": {},
   "outputs": [],
   "source": [
    "tempMAPDATA[\"ZONE6\"] = \"\"\"\n",
    "20170, 20171, 20194, 22033\n",
    "\"\"\""
   ]
  },
  {
   "cell_type": "code",
   "execution_count": 14,
   "metadata": {},
   "outputs": [],
   "source": [
    "if os.path.isfile(os.path.join(geojson_dir, \"delivery.json\")):\n",
    "    with open(os.path.join(geojson_dir, \"delivery.json\"), \"r\") as delivery_file:\n",
    "        delivery_dict = json.load(delivery_file)\n",
    "else:\n",
    "    delivery_dict = {}"
   ]
  },
  {
   "cell_type": "code",
   "execution_count": 15,
   "metadata": {},
   "outputs": [],
   "source": [
    "MAPDATA = None\n",
    "if SELECTED in delivery_dict:\n",
    "    if len(delivery_dict[SELECTED])>=CAPTURING_ZONES:\n",
    "        MAPDATA = delivery_dict[SELECTED][\"MAPDATA\"]        \n",
    "\n",
    "if not MAPDATA:\n",
    "    MAPDATA = {k:v for (k,v) in tempMAPDATA.items() if v.strip()}\n",
    "\n",
    "    MAPDATA = {k:[i.strip() for i in v.split(\",\")] for (k,v) in MAPDATA.items()}\n",
    "\n",
    "    delivery_dict[SELECTED] = {}\n",
    "    delivery_dict[SELECTED][\"MAPDATA\"] = MAPDATA\n",
    "    delivery_dict[SELECTED][\"SELECTED\"] = SELECTED\n",
    "    with open(os.path.join(geojson_dir, \"delivery.json\"), \"w+\") as delivery_file:\n",
    "        delivery_file.write(json.dumps(delivery_dict, indent=4, sort_keys=True))"
   ]
  },
  {
   "cell_type": "code",
   "execution_count": 16,
   "metadata": {},
   "outputs": [],
   "source": [
    "dfdata = [[k,i,index+1] for index, (k,v) in enumerate(MAPDATA.items()) for i in v]"
   ]
  },
  {
   "cell_type": "code",
   "execution_count": 17,
   "metadata": {},
   "outputs": [],
   "source": [
    "dfdata = [i for i in dfdata if i[2]<=CAPTURING_ZONES]"
   ]
  },
  {
   "cell_type": "code",
   "execution_count": 18,
   "metadata": {},
   "outputs": [],
   "source": [
    "selectedDF = pd.DataFrame([[SELECTED_NAME, SELECTED, 0]], columns=[\"ZONE\", \"ZIPCODE\", \"ZONENO\"])"
   ]
  },
  {
   "cell_type": "code",
   "execution_count": 19,
   "metadata": {
    "scrolled": true
   },
   "outputs": [],
   "source": [
    "zipDF = pd.DataFrame(dfdata, columns=[\"ZONE\", \"ZIPCODE\", \"ZONENO\"])"
   ]
  },
  {
   "cell_type": "code",
   "execution_count": 20,
   "metadata": {},
   "outputs": [],
   "source": [
    "zipDF = zipDF[zipDF[\"ZIPCODE\"] != SELECTED]"
   ]
  },
  {
   "cell_type": "code",
   "execution_count": 21,
   "metadata": {},
   "outputs": [],
   "source": [
    "zipDF = selectedDF.append(zipDF, ignore_index = True)"
   ]
  },
  {
   "cell_type": "code",
   "execution_count": 22,
   "metadata": {},
   "outputs": [],
   "source": [
    "geojson_data = {k:json.load(open(os.path.join(geojson_dir, v), 'r')) for (k,v) in geojson.items()}"
   ]
  },
  {
   "cell_type": "code",
   "execution_count": 23,
   "metadata": {},
   "outputs": [],
   "source": [
    "combined_geojson = {'type': 'FeatureCollection', 'features': []}\n",
    "for state, data in geojson_data.items():\n",
    "    combined_geojson['features'].extend(data['features'])"
   ]
  },
  {
   "cell_type": "code",
   "execution_count": 24,
   "metadata": {},
   "outputs": [],
   "source": [
    "## filter combined_geojson\n",
    "combined_geojson['features'] = [i for i in combined_geojson['features'] if i[\"properties\"][\"ZCTA5CE10\"] in list(zipDF[\"ZIPCODE\"])]"
   ]
  },
  {
   "cell_type": "code",
   "execution_count": 25,
   "metadata": {},
   "outputs": [],
   "source": [
    "import folium"
   ]
  },
  {
   "cell_type": "code",
   "execution_count": 26,
   "metadata": {},
   "outputs": [],
   "source": [
    "m = folium.Map(location=[38.9,-77.2], zoom_start=11)\n",
    "\n",
    "folium.Choropleth(\n",
    "    geo_data=combined_geojson,\n",
    "    fill_opacity=.7,\n",
    "    line_opacity=.2,\n",
    "    data=zipDF,\n",
    "    columns=[\"ZIPCODE\", \"ZONENO\"],\n",
    "    key_on='feature.properties.ZCTA5CE10',\n",
    "    fill_color='YlOrRd',\n",
    "    highlight=True\n",
    ").add_to(m)\n",
    "\n",
    "for feature in combined_geojson['features']:\n",
    "    c_point = (float(feature[\"properties\"][\"INTPTLAT10\"]), float(feature[\"properties\"][\"INTPTLON10\"]))\n",
    "    folium.Marker(c_point, popup=feature[\"properties\"][\"ZCTA5CE10\"]).add_to(m)\n",
    "\n",
    "m.save(os.path.join(geojson_dir, '{}_ZipMap.html'.format(SELECTED)))"
   ]
  },
  {
   "cell_type": "code",
   "execution_count": null,
   "metadata": {},
   "outputs": [],
   "source": []
  }
 ],
 "metadata": {
  "kernelspec": {
   "display_name": "Python 3",
   "language": "python",
   "name": "python3"
  },
  "language_info": {
   "codemirror_mode": {
    "name": "ipython",
    "version": 3
   },
   "file_extension": ".py",
   "mimetype": "text/x-python",
   "name": "python",
   "nbconvert_exporter": "python",
   "pygments_lexer": "ipython3",
   "version": "3.7.1"
  }
 },
 "nbformat": 4,
 "nbformat_minor": 2
}
